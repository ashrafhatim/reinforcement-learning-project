{
 "cells": [
  {
   "cell_type": "code",
   "execution_count": 1,
   "metadata": {},
   "outputs": [],
   "source": [
    "import pandas as pd\n",
    "import plotly.express as px\n",
    "import plotly.graph_objects as go\n",
    "from plotly.subplots import make_subplots\n",
    "import ipywidgets as ipw"
   ]
  },
  {
   "cell_type": "code",
   "execution_count": 10,
   "metadata": {},
   "outputs": [
    {
     "data": {
      "text/html": [
       "<style>.container { width:100% !important; }</style>"
      ],
      "text/plain": [
       "<IPython.core.display.HTML object>"
      ]
     },
     "metadata": {},
     "output_type": "display_data"
    }
   ],
   "source": [
    "from IPython.core.display import display, HTML\n",
    "display(HTML(\"<style>.container { width:100% !important; }</style>\"))"
   ]
  },
  {
   "cell_type": "code",
   "execution_count": 11,
   "metadata": {},
   "outputs": [],
   "source": [
    "cutoff=250"
   ]
  },
  {
   "cell_type": "markdown",
   "metadata": {},
   "source": [
    "## Discrete"
   ]
  },
  {
   "cell_type": "markdown",
   "metadata": {},
   "source": [
    "### Effect of learning rate"
   ]
  },
  {
   "cell_type": "code",
   "execution_count": 12,
   "metadata": {},
   "outputs": [],
   "source": [
    "base = \"./discrete/learning_rate/lr\""
   ]
  },
  {
   "cell_type": "code",
   "execution_count": 14,
   "metadata": {},
   "outputs": [
    {
     "data": {
      "application/vnd.jupyter.widget-view+json": {
       "model_id": "6b399d932baf4326bfa167fb8e479d9b",
       "version_major": 2,
       "version_minor": 0
      },
      "text/plain": [
       "HBox(children=(FigureWidget({\n",
       "    'data': [{'boxmean': True,\n",
       "              'boxpoints': 'outliers',\n",
       "          …"
      ]
     },
     "metadata": {},
     "output_type": "display_data"
    }
   ],
   "source": [
    "fig = go.FigureWidget()\n",
    "fig3 = go.FigureWidget()\n",
    "\n",
    "values = [\"1e-1\",\"1e-2\",\"1e-3\",\"1e-4\",\"1e-5\"]\n",
    "percentages = []\n",
    "window=50\n",
    "for value in values:\n",
    "    rewards = pd.read_csv(base+value+\".csv\")[cutoff:]\n",
    "    percentages.append(len(rewards[rewards[\"Value\"] >= 200])/len(rewards))\n",
    "    fig.add_trace(go.Box(\n",
    "        y=rewards[\"Value\"],\n",
    "        name=value,\n",
    "        boxpoints=\"outliers\",\n",
    "        marker_color='rgb(7,40,89)',\n",
    "        boxmean=True # represent mean\n",
    "    ))\n",
    "    fig3.add_trace(go.Scatter(\n",
    "        y=rewards[\"Value\"].rolling(window=window).mean()[window:],\n",
    "        x=rewards[\"Step\"][window:],\n",
    "        name=\"lr-\"+value       # this sets its legend entry\n",
    "    ))\n",
    "    \n",
    "fig2 = go.FigureWidget(data=[go.Bar(\n",
    "    x=values, y=percentages,\n",
    "    text=percentages,Widget\n",
    "    textposition='auto',\n",
    ")])\n",
    "fig2.update_traces(marker_color='rgb(57,90,139)',marker_line_color='rgb(7,40,89)')\n",
    "\n",
    "fig3.update_layout(\n",
    "    title=f\"Reward per episode (moving average with window of size {window})\",\n",
    "    yaxis_title=\"cummulative reward\",\n",
    "    xaxis_title=\"episodes\"\n",
    ")\n",
    "fig2.update_layout(\n",
    "    title=\"Proportion of succesful landings per learning rate\",\n",
    "    yaxis_title=\"proportion of succesful landings\",\n",
    "    xaxis_title=\"learning rate\",\n",
    "    showlegend=False\n",
    ")\n",
    "fig.update_layout(\n",
    "    title=\"Reward distribution per learning rate\",\n",
    "    yaxis_title=\"cummulative reward\",\n",
    "    xaxis_title=\"learning rate\",\n",
    "    showlegend=False\n",
    ")\n",
    "\n",
    "#fig.show()\n",
    "#fig2.show()\n",
    "#fig3.show()\n",
    "ipw.HBox([fig,ipw.VBox([fig2, fig3])])"
   ]
  },
  {
   "cell_type": "markdown",
   "metadata": {},
   "source": [
    "### Epsilon decay"
   ]
  },
  {
   "cell_type": "code",
   "execution_count": 17,
   "metadata": {},
   "outputs": [],
   "source": [
    "base = \"./discrete/epsilon_decay/ed\""
   ]
  },
  {
   "cell_type": "code",
   "execution_count": 18,
   "metadata": {},
   "outputs": [
    {
     "data": {
      "application/vnd.jupyter.widget-view+json": {
       "model_id": "40d3a6126ffa4290aab95d04d128535a",
       "version_major": 2,
       "version_minor": 0
      },
      "text/plain": [
       "HBox(children=(FigureWidget({\n",
       "    'data': [{'boxmean': True,\n",
       "              'boxpoints': 'outliers',\n",
       "          …"
      ]
     },
     "metadata": {},
     "output_type": "display_data"
    }
   ],
   "source": [
    "fig = go.FigureWidget()\n",
    "fig3 = go.FigureWidget()\n",
    "\n",
    "values = [\"5e-2\",\"5e-3\",\"5e-4\",\"5e-5\",\"5e-6\"]\n",
    "percentages = []\n",
    "window=50\n",
    "for value in values:\n",
    "    rewards = pd.read_csv(base+value+\".csv\")[cutoff:]\n",
    "    percentages.append(len(rewards[rewards[\"Value\"] >= 200])/len(rewards))\n",
    "    fig.add_trace(go.Box(\n",
    "        y=rewards[\"Value\"],\n",
    "        name=value,\n",
    "        boxpoints=\"outliers\",\n",
    "        marker_color='rgb(7,40,89)',\n",
    "        boxmean=True # represent mean\n",
    "    ))\n",
    "    fig3.add_trace(go.Scatter(\n",
    "        y=rewards[\"Value\"].rolling(window=window).mean()[window:],\n",
    "        x=rewards[\"Step\"][window:],\n",
    "        name=\"decrement-\"+value       # this sets its legend entry\n",
    "    ))\n",
    "    \n",
    "fig2 = go.FigureWidget(data=[go.Bar(\n",
    "    x=values, y=percentages,\n",
    "    text=percentages,\n",
    "    textposition='auto',\n",
    ")])\n",
    "fig2.update_traces(marker_color='rgb(57,90,139)',marker_line_color='rgb(7,40,89)')\n",
    "\n",
    "fig3.update_layout(\n",
    "    title=f\"Reward per episode (moving average with window of size {window})\",\n",
    "    yaxis_title=\"cummulative reward\",\n",
    "    xaxis_title=\"episodes\"\n",
    ")\n",
    "fig2.update_layout(\n",
    "    title=\"Proportion of succesful landings per decrement value\",\n",
    "    yaxis_title=\"proportion of succesful landings\",\n",
    "    xaxis_title=\"decrement value\",\n",
    "    showlegend=False\n",
    ")\n",
    "fig.update_layout(\n",
    "    title=\"Reward distribution per decrement value\",\n",
    "    yaxis_title=\"cummulative reward\",\n",
    "    xaxis_title=\"decrement value\",\n",
    "    showlegend=False\n",
    ")\n",
    "ipw.HBox([fig,ipw.VBox([fig2, fig3])])"
   ]
  },
  {
   "cell_type": "markdown",
   "metadata": {},
   "source": [
    "## Effect of batch size"
   ]
  },
  {
   "cell_type": "code",
   "execution_count": 19,
   "metadata": {},
   "outputs": [],
   "source": [
    "base = \"./discrete/batch_size/bz\""
   ]
  },
  {
   "cell_type": "code",
   "execution_count": 20,
   "metadata": {},
   "outputs": [
    {
     "data": {
      "application/vnd.jupyter.widget-view+json": {
       "model_id": "70091baa56fc4b8f824921f6e8820ecb",
       "version_major": 2,
       "version_minor": 0
      },
      "text/plain": [
       "HBox(children=(FigureWidget({\n",
       "    'data': [{'boxmean': True,\n",
       "              'boxpoints': 'outliers',\n",
       "          …"
      ]
     },
     "metadata": {},
     "output_type": "display_data"
    }
   ],
   "source": [
    "fig = go.FigureWidget()\n",
    "fig3 = go.FigureWidget()\n",
    "\n",
    "values = [\"32\",\"64\",\"128\",\"256\",\"512\"]\n",
    "percentages = []\n",
    "window=50\n",
    "for value in values:\n",
    "    rewards = pd.read_csv(base+value+\".csv\")[cutoff:]\n",
    "    percentages.append(len(rewards[rewards[\"Value\"] >= 200])/len(rewards))\n",
    "    fig.add_trace(go.Box(\n",
    "        y=rewards[\"Value\"],\n",
    "        name=value,\n",
    "        boxpoints=\"outliers\",\n",
    "        marker_color='rgb(7,40,89)',\n",
    "        boxmean=True # represent mean\n",
    "    ))\n",
    "    fig3.add_trace(go.Scatter(\n",
    "        y=rewards[\"Value\"].rolling(window=window).mean()[window:],\n",
    "        x=rewards[\"Step\"][window:],\n",
    "        name=\"batch size-\"+value       # this sets its legend entry\n",
    "    ))\n",
    "    \n",
    "fig2 = go.FigureWidget(data=[go.Bar(\n",
    "    x=values, y=percentages,\n",
    "    text=percentages,\n",
    "    textposition='auto',\n",
    ")])\n",
    "fig2.update_traces(marker_color='rgb(57,90,139)',marker_line_color='rgb(7,40,89)')\n",
    "\n",
    "fig3.update_layout(\n",
    "    title=f\"Reward per episode (moving average with window of size {window})\",\n",
    "    yaxis_title=\"cummulative reward\",\n",
    "    xaxis_title=\"episodes\"\n",
    ")\n",
    "fig2.update_layout(\n",
    "    title=\"Proportion of succesful landings per batch size\",\n",
    "    yaxis_title=\"proportion of succesful landings\",\n",
    "    xaxis_title=\"batch size\",\n",
    "    showlegend=False\n",
    ")\n",
    "fig.update_layout(\n",
    "    title=\"Reward distribution per batch size\",\n",
    "    yaxis_title=\"cummulative reward\",\n",
    "    xaxis_title=\"batch size\",\n",
    "    showlegend=False\n",
    ")\n",
    "ipw.HBox([fig,ipw.VBox([fig2, fig3])])"
   ]
  },
  {
   "cell_type": "markdown",
   "metadata": {},
   "source": [
    "## Continuous"
   ]
  },
  {
   "cell_type": "markdown",
   "metadata": {},
   "source": [
    "### Effect of learning rate"
   ]
  },
  {
   "cell_type": "code",
   "execution_count": 21,
   "metadata": {},
   "outputs": [],
   "source": [
    "base = \"./continuous/learning_rate/reward_per_episode_learning_rate_\""
   ]
  },
  {
   "cell_type": "code",
   "execution_count": 22,
   "metadata": {},
   "outputs": [
    {
     "data": {
      "application/vnd.jupyter.widget-view+json": {
       "model_id": "0112862b3e7c4492bcfa2f3847af440a",
       "version_major": 2,
       "version_minor": 0
      },
      "text/plain": [
       "HBox(children=(FigureWidget({\n",
       "    'data': [{'boxmean': True,\n",
       "              'boxpoints': 'outliers',\n",
       "          …"
      ]
     },
     "metadata": {},
     "output_type": "display_data"
    }
   ],
   "source": [
    "fig = go.FigureWidget()\n",
    "fig3 = go.FigureWidget()\n",
    "\n",
    "values = [\"1e-1\",\"1e-2\",\"1e-3\",\"1e-4\",\"1e-5\"]\n",
    "percentages = []\n",
    "window=50\n",
    "for value in values:\n",
    "    rewards = pd.read_csv(base+value+\".csv\")[cutoff:]\n",
    "    percentages.append(len(rewards[rewards[\"Value\"] >= 200])/len(rewards))\n",
    "    fig.add_trace(go.Box(\n",
    "        y=rewards[\"Value\"],\n",
    "        name=value,\n",
    "        boxpoints=\"outliers\",\n",
    "        marker_color='rgb(7,40,89)',\n",
    "        boxmean=True # represent mean\n",
    "    ))\n",
    "    fig3.add_trace(go.Scatter(\n",
    "        y=rewards[\"Value\"].rolling(window=window).mean()[window:],\n",
    "        x=rewards[\"Step\"][window:],\n",
    "        name=\"lr-\"+value       # this sets its legend entry\n",
    "    ))\n",
    "    \n",
    "fig2 = go.FigureWidget(data=[go.Bar(\n",
    "    x=values, y=percentages,\n",
    "    text=percentages,\n",
    "    textposition='auto',\n",
    ")])\n",
    "fig2.update_traces(marker_color='rgb(57,90,139)',marker_line_color='rgb(7,40,89)')\n",
    "\n",
    "fig3.update_layout(\n",
    "    title=f\"Reward per episode (moving average with window of size {window})\",\n",
    "    yaxis_title=\"cummulative reward\",\n",
    "    xaxis_title=\"episodes\"\n",
    ")\n",
    "fig2.update_layout(\n",
    "    title=\"Proportion of succesful landings per learning rate\",\n",
    "    yaxis_title=\"proportion of succesful landings\",\n",
    "    xaxis_title=\"learning rate\",\n",
    "    showlegend=False\n",
    ")\n",
    "fig.update_layout(\n",
    "    title=\"Reward distribution per learning rate\",\n",
    "    yaxis_title=\"cummulative reward\",\n",
    "    xaxis_title=\"learning rate\",\n",
    "    showlegend=False\n",
    ")\n",
    "ipw.HBox([fig,ipw.VBox([fig2, fig3])])"
   ]
  },
  {
   "cell_type": "markdown",
   "metadata": {},
   "source": [
    "### Effect of epsilon decay"
   ]
  },
  {
   "cell_type": "code",
   "execution_count": 23,
   "metadata": {},
   "outputs": [],
   "source": [
    "base = \"./continuous/epsilon_decay/reward_per_episode_\""
   ]
  },
  {
   "cell_type": "code",
   "execution_count": 24,
   "metadata": {},
   "outputs": [
    {
     "data": {
      "application/vnd.jupyter.widget-view+json": {
       "model_id": "6810a3fd652945ef9bbd2f23b90f87d4",
       "version_major": 2,
       "version_minor": 0
      },
      "text/plain": [
       "HBox(children=(FigureWidget({\n",
       "    'data': [{'boxmean': True,\n",
       "              'boxpoints': 'outliers',\n",
       "          …"
      ]
     },
     "metadata": {},
     "output_type": "display_data"
    }
   ],
   "source": [
    "fig = go.FigureWidget()\n",
    "fig3 = go.FigureWidget()\n",
    "\n",
    "values = [\"1e-1\",\"1e-2\",\"1e-3\",\"1e-4\",\"1e-5\"]\n",
    "percentages = []\n",
    "window=50\n",
    "for value in values:\n",
    "    rewards = pd.read_csv(base+value+\".csv\")[cutoff:]\n",
    "    percentages.append(len(rewards[rewards[\"Value\"] >= 200])/len(rewards))\n",
    "    fig.add_trace(go.Box(\n",
    "        y=rewards[\"Value\"],\n",
    "        name=value,\n",
    "        boxpoints=\"outliers\",\n",
    "        marker_color='rgb(7,40,89)',\n",
    "        boxmean=True # represent mean\n",
    "    ))\n",
    "    fig3.add_trace(go.Scatter(\n",
    "        y=rewards[\"Value\"].rolling(window=window).mean()[window:],\n",
    "        x=rewards[\"Step\"][window:],\n",
    "        name=\"decrement-\"+value       # this sets its legend entry\n",
    "    ))\n",
    "    \n",
    "fig2 = go.FigureWidget(data=[go.Bar(\n",
    "    x=values, y=percentages,\n",
    "    text=percentages,\n",
    "    textposition='auto',\n",
    ")])\n",
    "fig2.update_traces(marker_color='rgb(57,90,139)',marker_line_color='rgb(7,40,89)')\n",
    "\n",
    "fig3.update_layout(\n",
    "    title=f\"Reward per episode (moving average with window of size {window})\",\n",
    "    yaxis_title=\"cummulative reward\",\n",
    "    xaxis_title=\"episodes\"\n",
    ")\n",
    "fig2.update_layout(\n",
    "    title=\"Proportion of succesful landings per decrement value\",\n",
    "    yaxis_title=\"proportion of succesful landings\",\n",
    "    xaxis_title=\"decrement value\",\n",
    "    showlegend=False\n",
    ")\n",
    "fig.update_layout(\n",
    "    title=\"Reward distribution per decrement value\",\n",
    "    yaxis_title=\"cummulative reward\",\n",
    "    xaxis_title=\"decrement value\",\n",
    "    showlegend=False\n",
    ")\n",
    "ipw.HBox([fig,ipw.VBox([fig2, fig3])])"
   ]
  },
  {
   "cell_type": "markdown",
   "metadata": {},
   "source": [
    "### Effect of batch_size"
   ]
  },
  {
   "cell_type": "code",
   "execution_count": 25,
   "metadata": {},
   "outputs": [],
   "source": [
    "base = \"./continuous/batch_size/reward_per_episode_batch_size_\""
   ]
  },
  {
   "cell_type": "code",
   "execution_count": 26,
   "metadata": {},
   "outputs": [
    {
     "data": {
      "application/vnd.jupyter.widget-view+json": {
       "model_id": "b406233424fa42aa85a2d0396cac3390",
       "version_major": 2,
       "version_minor": 0
      },
      "text/plain": [
       "HBox(children=(FigureWidget({\n",
       "    'data': [{'boxmean': True,\n",
       "              'boxpoints': 'outliers',\n",
       "          …"
      ]
     },
     "metadata": {},
     "output_type": "display_data"
    }
   ],
   "source": [
    "fig = go.FigureWidget()\n",
    "fig3 = go.FigureWidget()\n",
    "\n",
    "values = [\"32\",\"64\",\"128\",\"256\",\"512\"]\n",
    "percentages = []\n",
    "window=50\n",
    "for value in values:\n",
    "    rewards = pd.read_csv(base+value+\".csv\")[cutoff:]\n",
    "    percentages.append(len(rewards[rewards[\"Value\"] >= 200])/len(rewards))\n",
    "    fig.add_trace(go.Box(\n",
    "        y=rewards[\"Value\"],\n",
    "        name=value,\n",
    "        boxpoints=\"outliers\",\n",
    "        marker_color='rgb(7,40,89)',\n",
    "        boxmean=True # represent mean\n",
    "    ))\n",
    "    fig3.add_trace(go.Scatter(\n",
    "        y=rewards[\"Value\"].rolling(window=window).mean()[window:],\n",
    "        x=rewards[\"Step\"][window:],\n",
    "        name=\"batch size-\"+value       # this sets its legend entry\n",
    "    ))\n",
    "    \n",
    "fig2 = go.FigureWidget(data=[go.Bar(\n",
    "    x=values, y=percentages,\n",
    "    text=percentages,\n",
    "    textposition='auto',\n",
    ")])\n",
    "fig2.update_traces(marker_color='rgb(57,90,139)',marker_line_color='rgb(7,40,89)')\n",
    "\n",
    "fig3.update_layout(\n",
    "    title=f\"Reward per episode (moving average with window of size {window})\",\n",
    "    yaxis_title=\"cummulative reward\",\n",
    "    xaxis_title=\"episodes\"\n",
    ")\n",
    "fig2.update_layout(\n",
    "    title=\"Proportion of succesful landings per batch size\",\n",
    "    yaxis_title=\"proportion of succesful landings\",\n",
    "    xaxis_title=\"batch size\",\n",
    "    showlegend=False\n",
    ")\n",
    "fig.update_layout(\n",
    "    title=\"Reward distribution per batch size\",\n",
    "    yaxis_title=\"cummulative reward\",\n",
    "    xaxis_title=\"batch size\",\n",
    "    showlegend=False\n",
    ")\n",
    "ipw.HBox([fig,ipw.VBox([fig2, fig3])])"
   ]
  },
  {
   "cell_type": "code",
   "execution_count": null,
   "metadata": {},
   "outputs": [],
   "source": []
  }
 ],
 "metadata": {
  "kernelspec": {
   "display_name": "Python 3",
   "language": "python",
   "name": "python3"
  },
  "language_info": {
   "codemirror_mode": {
    "name": "ipython",
    "version": 3
   },
   "file_extension": ".py",
   "mimetype": "text/x-python",
   "name": "python",
   "nbconvert_exporter": "python",
   "pygments_lexer": "ipython3",
   "version": "3.8.5"
  }
 },
 "nbformat": 4,
 "nbformat_minor": 4
}
